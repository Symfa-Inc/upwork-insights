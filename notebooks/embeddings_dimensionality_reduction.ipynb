{
 "cells": [
  {
   "cell_type": "code",
   "execution_count": 1,
   "id": "8688b07e-b94e-4b07-8ea1-55ab8c9f9a14",
   "metadata": {},
   "outputs": [
    {
     "name": "stdout",
     "output_type": "stream",
     "text": [
      "/Users/Michael/PythonProjects/upwork-insights\n"
     ]
    },
    {
     "name": "stderr",
     "output_type": "stream",
     "text": [
      "/opt/homebrew/Caskroom/miniconda/base/envs/upwork/lib/python3.12/site-packages/IPython/core/magics/osm.py:417: UserWarning: This is now an optional IPython functionality, setting dhist requires you to install the `pickleshare` library.\n",
      "  self.shell.db['dhist'] = compress_dhist(dhist)[-100:]\n"
     ]
    }
   ],
   "source": [
    "%cd .."
   ]
  },
  {
   "cell_type": "code",
   "execution_count": 2,
   "id": "eaf8fa8e-fb1f-4f80-923c-caa7e45ce496",
   "metadata": {},
   "outputs": [
    {
     "name": "stderr",
     "output_type": "stream",
     "text": [
      "/opt/homebrew/Caskroom/miniconda/base/envs/upwork/lib/python3.12/site-packages/tqdm/auto.py:21: TqdmWarning: IProgress not found. Please update jupyter and ipywidgets. See https://ipywidgets.readthedocs.io/en/stable/user_install.html\n",
      "  from .autonotebook import tqdm as notebook_tqdm\n"
     ]
    }
   ],
   "source": [
    "import pandas as pd\n",
    "import numpy as np\n",
    "\n",
    "import os\n",
    "\n",
    "from src.vis.embeddings_dimensionality_reduction import calculate_and_save_embeddings, fit_dimensionality_reduction_methods, visualize_variances"
   ]
  },
  {
   "cell_type": "code",
   "execution_count": 3,
   "id": "f3539ea9-506b-44a9-beb9-8f87a368d1a1",
   "metadata": {},
   "outputs": [],
   "source": [
    "input_path = 'data/clean/clean.csv'\n",
    "output_dir = 'data/embeddings'\n",
    "text_columns = ['title', 'description', 'company_name', 'company_description', 'company_summary']\n",
    "missing_columns = [ column for column in text_columns if not os.path.exists(os.path.join(output_dir, f\"{column}_embeddings.parquet\"))]\n",
    "\n",
    "if missing_columns:\n",
    "    calculate_and_save_embeddings(input_path, output_dir, missing_columns)"
   ]
  },
  {
   "cell_type": "code",
   "execution_count": 4,
   "id": "ba94134d-8186-4432-92be-084fe4e4f783",
   "metadata": {},
   "outputs": [],
   "source": [
    "sample_mask = np.random.choice(64619, 6144, replace=False)"
   ]
  },
  {
   "cell_type": "code",
   "execution_count": 5,
   "id": "2a6f68dd-0272-4d27-8466-92001a0c1137",
   "metadata": {},
   "outputs": [
    {
     "ename": "KeyError",
     "evalue": "\"None of [Index([13508, 34289, 35512, 32655, 15075, 12054, 56621,  4534, 32962, 39462,\\n       ...\\n       59886, 12514, 57259, 46320, 36843, 21637, 47378,  3252, 38335, 55367],\\n      dtype='int64', length=6144)] are in the [columns]\"",
     "output_type": "error",
     "traceback": [
      "\u001b[0;31m---------------------------------------------------------------------------\u001b[0m",
      "\u001b[0;31mKeyError\u001b[0m                                  Traceback (most recent call last)",
      "Cell \u001b[0;32mIn[5], line 1\u001b[0m\n\u001b[0;32m----> 1\u001b[0m title_df \u001b[38;5;241m=\u001b[39m \u001b[43mpd\u001b[49m\u001b[38;5;241;43m.\u001b[39;49m\u001b[43mread_parquet\u001b[49m\u001b[43m(\u001b[49m\u001b[43mos\u001b[49m\u001b[38;5;241;43m.\u001b[39;49m\u001b[43mpath\u001b[49m\u001b[38;5;241;43m.\u001b[39;49m\u001b[43mjoin\u001b[49m\u001b[43m(\u001b[49m\u001b[43moutput_dir\u001b[49m\u001b[43m,\u001b[49m\u001b[43m \u001b[49m\u001b[38;5;124;43m'\u001b[39;49m\u001b[38;5;124;43mtitle_embeddings.parquet\u001b[39;49m\u001b[38;5;124;43m'\u001b[39;49m\u001b[43m)\u001b[49m\u001b[43m)\u001b[49m\u001b[43m[\u001b[49m\u001b[43msample_mask\u001b[49m\u001b[43m]\u001b[49m\n\u001b[1;32m      2\u001b[0m explained_variances, cumulative_variances \u001b[38;5;241m=\u001b[39m fit_dimensionality_reduction_methods(title_df)\n\u001b[1;32m      3\u001b[0m visualize_variances(explained_variances, cumulative_variances, feature_name\u001b[38;5;241m=\u001b[39m\u001b[38;5;124m\"\u001b[39m\u001b[38;5;124mtitle\u001b[39m\u001b[38;5;124m\"\u001b[39m)\n",
      "File \u001b[0;32m/opt/homebrew/Caskroom/miniconda/base/envs/upwork/lib/python3.12/site-packages/pandas/core/frame.py:4108\u001b[0m, in \u001b[0;36mDataFrame.__getitem__\u001b[0;34m(self, key)\u001b[0m\n\u001b[1;32m   4106\u001b[0m     \u001b[38;5;28;01mif\u001b[39;00m is_iterator(key):\n\u001b[1;32m   4107\u001b[0m         key \u001b[38;5;241m=\u001b[39m \u001b[38;5;28mlist\u001b[39m(key)\n\u001b[0;32m-> 4108\u001b[0m     indexer \u001b[38;5;241m=\u001b[39m \u001b[38;5;28;43mself\u001b[39;49m\u001b[38;5;241;43m.\u001b[39;49m\u001b[43mcolumns\u001b[49m\u001b[38;5;241;43m.\u001b[39;49m\u001b[43m_get_indexer_strict\u001b[49m\u001b[43m(\u001b[49m\u001b[43mkey\u001b[49m\u001b[43m,\u001b[49m\u001b[43m \u001b[49m\u001b[38;5;124;43m\"\u001b[39;49m\u001b[38;5;124;43mcolumns\u001b[39;49m\u001b[38;5;124;43m\"\u001b[39;49m\u001b[43m)\u001b[49m[\u001b[38;5;241m1\u001b[39m]\n\u001b[1;32m   4110\u001b[0m \u001b[38;5;66;03m# take() does not accept boolean indexers\u001b[39;00m\n\u001b[1;32m   4111\u001b[0m \u001b[38;5;28;01mif\u001b[39;00m \u001b[38;5;28mgetattr\u001b[39m(indexer, \u001b[38;5;124m\"\u001b[39m\u001b[38;5;124mdtype\u001b[39m\u001b[38;5;124m\"\u001b[39m, \u001b[38;5;28;01mNone\u001b[39;00m) \u001b[38;5;241m==\u001b[39m \u001b[38;5;28mbool\u001b[39m:\n",
      "File \u001b[0;32m/opt/homebrew/Caskroom/miniconda/base/envs/upwork/lib/python3.12/site-packages/pandas/core/indexes/base.py:6200\u001b[0m, in \u001b[0;36mIndex._get_indexer_strict\u001b[0;34m(self, key, axis_name)\u001b[0m\n\u001b[1;32m   6197\u001b[0m \u001b[38;5;28;01melse\u001b[39;00m:\n\u001b[1;32m   6198\u001b[0m     keyarr, indexer, new_indexer \u001b[38;5;241m=\u001b[39m \u001b[38;5;28mself\u001b[39m\u001b[38;5;241m.\u001b[39m_reindex_non_unique(keyarr)\n\u001b[0;32m-> 6200\u001b[0m \u001b[38;5;28;43mself\u001b[39;49m\u001b[38;5;241;43m.\u001b[39;49m\u001b[43m_raise_if_missing\u001b[49m\u001b[43m(\u001b[49m\u001b[43mkeyarr\u001b[49m\u001b[43m,\u001b[49m\u001b[43m \u001b[49m\u001b[43mindexer\u001b[49m\u001b[43m,\u001b[49m\u001b[43m \u001b[49m\u001b[43maxis_name\u001b[49m\u001b[43m)\u001b[49m\n\u001b[1;32m   6202\u001b[0m keyarr \u001b[38;5;241m=\u001b[39m \u001b[38;5;28mself\u001b[39m\u001b[38;5;241m.\u001b[39mtake(indexer)\n\u001b[1;32m   6203\u001b[0m \u001b[38;5;28;01mif\u001b[39;00m \u001b[38;5;28misinstance\u001b[39m(key, Index):\n\u001b[1;32m   6204\u001b[0m     \u001b[38;5;66;03m# GH 42790 - Preserve name from an Index\u001b[39;00m\n",
      "File \u001b[0;32m/opt/homebrew/Caskroom/miniconda/base/envs/upwork/lib/python3.12/site-packages/pandas/core/indexes/base.py:6249\u001b[0m, in \u001b[0;36mIndex._raise_if_missing\u001b[0;34m(self, key, indexer, axis_name)\u001b[0m\n\u001b[1;32m   6247\u001b[0m \u001b[38;5;28;01mif\u001b[39;00m nmissing:\n\u001b[1;32m   6248\u001b[0m     \u001b[38;5;28;01mif\u001b[39;00m nmissing \u001b[38;5;241m==\u001b[39m \u001b[38;5;28mlen\u001b[39m(indexer):\n\u001b[0;32m-> 6249\u001b[0m         \u001b[38;5;28;01mraise\u001b[39;00m \u001b[38;5;167;01mKeyError\u001b[39;00m(\u001b[38;5;124mf\u001b[39m\u001b[38;5;124m\"\u001b[39m\u001b[38;5;124mNone of [\u001b[39m\u001b[38;5;132;01m{\u001b[39;00mkey\u001b[38;5;132;01m}\u001b[39;00m\u001b[38;5;124m] are in the [\u001b[39m\u001b[38;5;132;01m{\u001b[39;00maxis_name\u001b[38;5;132;01m}\u001b[39;00m\u001b[38;5;124m]\u001b[39m\u001b[38;5;124m\"\u001b[39m)\n\u001b[1;32m   6251\u001b[0m     not_found \u001b[38;5;241m=\u001b[39m \u001b[38;5;28mlist\u001b[39m(ensure_index(key)[missing_mask\u001b[38;5;241m.\u001b[39mnonzero()[\u001b[38;5;241m0\u001b[39m]]\u001b[38;5;241m.\u001b[39munique())\n\u001b[1;32m   6252\u001b[0m     \u001b[38;5;28;01mraise\u001b[39;00m \u001b[38;5;167;01mKeyError\u001b[39;00m(\u001b[38;5;124mf\u001b[39m\u001b[38;5;124m\"\u001b[39m\u001b[38;5;132;01m{\u001b[39;00mnot_found\u001b[38;5;132;01m}\u001b[39;00m\u001b[38;5;124m not in index\u001b[39m\u001b[38;5;124m\"\u001b[39m)\n",
      "\u001b[0;31mKeyError\u001b[0m: \"None of [Index([13508, 34289, 35512, 32655, 15075, 12054, 56621,  4534, 32962, 39462,\\n       ...\\n       59886, 12514, 57259, 46320, 36843, 21637, 47378,  3252, 38335, 55367],\\n      dtype='int64', length=6144)] are in the [columns]\""
     ]
    }
   ],
   "source": [
    "title_df = pd.read_parquet(os.path.join(output_dir, 'title_embeddings.parquet'))[sample_mask]\n",
    "explained_variances, cumulative_variances = fit_dimensionality_reduction_methods(title_df)\n",
    "visualize_variances(explained_variances, cumulative_variances, feature_name=\"title\")"
   ]
  },
  {
   "cell_type": "code",
   "execution_count": null,
   "id": "1b9b239f-c20b-44bf-8be2-dcfee37d2c9c",
   "metadata": {},
   "outputs": [],
   "source": [
    "description_df = pd.read_parquet(os.path.join(output_dir, 'description_embeddings.parquet'))[sample_mask]\n",
    "explained_variances, cumulative_variances = fit_dimensionality_reduction_methods(description_df)\n",
    "visualize_variances(explained_variances, cumulative_variances, feature_name=\"description\")"
   ]
  },
  {
   "cell_type": "code",
   "execution_count": null,
   "id": "10a0a010-ce5e-49ed-8ae2-317adfd26820",
   "metadata": {},
   "outputs": [],
   "source": [
    "company_name_df = pd.read_parquet(os.path.join(output_dir, 'company_name_embeddings.parquet'))[sample_mask]\n",
    "explained_variances, cumulative_variances = fit_dimensionality_reduction_methods(company_name_df)\n",
    "visualize_variances(explained_variances, cumulative_variances, feature_name=\"company_name\")"
   ]
  },
  {
   "cell_type": "code",
   "execution_count": null,
   "id": "0dafa985-1d71-4af2-9358-04887eafab25",
   "metadata": {},
   "outputs": [],
   "source": [
    "company_description_df = pd.read_parquet(os.path.join(output_dir, 'company_description.parquet'))[sample_mask]\n",
    "explained_variances, cumulative_variances = fit_dimensionality_reduction_methods(company_description_df)\n",
    "visualize_variances(explained_variances, cumulative_variances, feature_name=\"company_description\")"
   ]
  },
  {
   "cell_type": "code",
   "execution_count": null,
   "id": "e44757cd-ef93-4ef1-83b7-19a7fcb32d83",
   "metadata": {},
   "outputs": [],
   "source": [
    "company_summary_df = pd.read_parquet(os.path.join(output_dir, 'company_summary_embeddings.parquet'))[sample_mask]\n",
    "explained_variances, cumulative_variances = fit_dimensionality_reduction_methods(company_summary_df)\n",
    "visualize_variances(explained_variances, cumulative_variances, feature_name=\"company_summary\")"
   ]
  }
 ],
 "metadata": {
  "kernelspec": {
   "display_name": "Python 3 (ipykernel)",
   "language": "python",
   "name": "python3"
  },
  "language_info": {
   "codemirror_mode": {
    "name": "ipython",
    "version": 3
   },
   "file_extension": ".py",
   "mimetype": "text/x-python",
   "name": "python",
   "nbconvert_exporter": "python",
   "pygments_lexer": "ipython3",
   "version": "3.12.7"
  }
 },
 "nbformat": 4,
 "nbformat_minor": 5
}
