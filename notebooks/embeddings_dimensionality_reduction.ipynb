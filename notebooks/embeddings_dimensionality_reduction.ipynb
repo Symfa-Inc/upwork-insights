{
 "cells": [
  {
   "cell_type": "code",
   "execution_count": 1,
   "id": "8688b07e-b94e-4b07-8ea1-55ab8c9f9a14",
   "metadata": {},
   "outputs": [
    {
     "name": "stdout",
     "output_type": "stream",
     "text": [
      "/Users/Michael/PythonProjects/upwork-insights\n"
     ]
    },
    {
     "name": "stderr",
     "output_type": "stream",
     "text": [
      "/opt/homebrew/Caskroom/miniconda/base/envs/upwork/lib/python3.12/site-packages/IPython/core/magics/osm.py:417: UserWarning: This is now an optional IPython functionality, setting dhist requires you to install the `pickleshare` library.\n",
      "  self.shell.db['dhist'] = compress_dhist(dhist)[-100:]\n"
     ]
    }
   ],
   "source": [
    "%cd .."
   ]
  },
  {
   "cell_type": "code",
   "execution_count": 2,
   "id": "eaf8fa8e-fb1f-4f80-923c-caa7e45ce496",
   "metadata": {},
   "outputs": [
    {
     "name": "stderr",
     "output_type": "stream",
     "text": [
      "/opt/homebrew/Caskroom/miniconda/base/envs/upwork/lib/python3.12/site-packages/tqdm/auto.py:21: TqdmWarning: IProgress not found. Please update jupyter and ipywidgets. See https://ipywidgets.readthedocs.io/en/stable/user_install.html\n",
      "  from .autonotebook import tqdm as notebook_tqdm\n"
     ]
    }
   ],
   "source": [
    "import pandas as pd\n",
    "import numpy as np\n",
    "\n",
    "import os\n",
    "\n",
    "from src.vis.embeddings_dimensionality_reduction import calculate_and_save_embeddings, fit_dimensionality_reduction_methods, visualize_variances"
   ]
  },
  {
   "cell_type": "code",
   "execution_count": 3,
   "id": "f3539ea9-506b-44a9-beb9-8f87a368d1a1",
   "metadata": {},
   "outputs": [],
   "source": [
    "input_path = 'data/clean/clean.csv'\n",
    "output_dir = 'data/embeddings'\n",
    "text_columns = ['title', 'description', 'company_name', 'company_description', 'company_summary']\n",
    "missing_columns = [ column for column in text_columns if not os.path.exists(os.path.join(output_dir, f\"{column}_embeddings.parquet\"))]\n",
    "\n",
    "if missing_columns:\n",
    "    calculate_and_save_embeddings(input_path, output_dir, missing_columns)"
   ]
  },
  {
   "cell_type": "code",
   "execution_count": 4,
   "id": "ba94134d-8186-4432-92be-084fe4e4f783",
   "metadata": {},
   "outputs": [],
   "source": [
    "sample_mask = np.zeros(64619, dtype=bool)\n",
    "sample_mask[:6144] = True\n",
    "np.random.shuffle(sample_mask)"
   ]
  },
  {
   "cell_type": "code",
   "execution_count": null,
   "id": "2a6f68dd-0272-4d27-8466-92001a0c1137",
   "metadata": {},
   "outputs": [
    {
     "name": "stderr",
     "output_type": "stream",
     "text": [
      "[22-01-2025 21:31:07][INFO] - Fitting method PCA\n",
      "[22-01-2025 21:31:13][INFO] - Fitting method KernelPCA (rbf)\n",
      "[22-01-2025 21:31:34][INFO] - Fitting method KernelPCA (poly)\n",
      "[22-01-2025 21:31:56][INFO] - Fitting method KernelPCA (sigmoid)\n",
      "[22-01-2025 21:32:18][INFO] - Fitting method KernelPCA (cosine)\n",
      "[22-01-2025 21:32:41][INFO] - Fitting method UMAP\n",
      "[22-01-2025 21:32:41][INFO] - Intervals for UMAP: [2, 3, 4, 5, 6, 7, 8, 9, 10, 15, 20, 25, 30, 35, 40, 45, 50, 55, 60, 65, 70, 75, 80, 85, 90, 95, 100, 110, 160, 210, 260, 310, 360, 410, 460, 600, 700, 800, 900, 1000, 1100, 1200, 1300, 1400, 1500]\n",
      "/opt/homebrew/Caskroom/miniconda/base/envs/upwork/lib/python3.12/site-packages/sklearn/utils/deprecation.py:151: FutureWarning: 'force_all_finite' was renamed to 'ensure_all_finite' in 1.6 and will be removed in 1.8.\n",
      "  warnings.warn(\n"
     ]
    }
   ],
   "source": [
    "title_df = pd.read_parquet(os.path.join(output_dir, 'title_embeddings.parquet')).iloc[sample_mask]\n",
    "explained_variances, cumulative_variances = fit_dimensionality_reduction_methods(title_df)\n",
    "visualize_variances(explained_variances, cumulative_variances, feature_name=\"title\")"
   ]
  },
  {
   "cell_type": "code",
   "execution_count": null,
   "id": "1b9b239f-c20b-44bf-8be2-dcfee37d2c9c",
   "metadata": {},
   "outputs": [],
   "source": [
    "description_df = pd.read_parquet(os.path.join(output_dir, 'description_embeddings.parquet'))[sample_mask]\n",
    "explained_variances, cumulative_variances = fit_dimensionality_reduction_methods(description_df)\n",
    "visualize_variances(explained_variances, cumulative_variances, feature_name=\"description\")"
   ]
  },
  {
   "cell_type": "code",
   "execution_count": null,
   "id": "10a0a010-ce5e-49ed-8ae2-317adfd26820",
   "metadata": {},
   "outputs": [],
   "source": [
    "company_name_df = pd.read_parquet(os.path.join(output_dir, 'company_name_embeddings.parquet'))[sample_mask]\n",
    "explained_variances, cumulative_variances = fit_dimensionality_reduction_methods(company_name_df)\n",
    "visualize_variances(explained_variances, cumulative_variances, feature_name=\"company_name\")"
   ]
  },
  {
   "cell_type": "code",
   "execution_count": null,
   "id": "0dafa985-1d71-4af2-9358-04887eafab25",
   "metadata": {},
   "outputs": [],
   "source": [
    "company_description_df = pd.read_parquet(os.path.join(output_dir, 'company_description_embeddings.parquet'))[sample_mask]\n",
    "explained_variances, cumulative_variances = fit_dimensionality_reduction_methods(company_description_df)\n",
    "visualize_variances(explained_variances, cumulative_variances, feature_name=\"company_description\")"
   ]
  },
  {
   "cell_type": "code",
   "execution_count": null,
   "id": "e44757cd-ef93-4ef1-83b7-19a7fcb32d83",
   "metadata": {},
   "outputs": [],
   "source": [
    "company_summary_df = pd.read_parquet(os.path.join(output_dir, 'company_summary_embeddings.parquet'))[sample_mask]\n",
    "explained_variances, cumulative_variances = fit_dimensionality_reduction_methods(company_summary_df)\n",
    "visualize_variances(explained_variances, cumulative_variances, feature_name=\"company_summary\")"
   ]
  }
 ],
 "metadata": {
  "kernelspec": {
   "display_name": "Python 3 (ipykernel)",
   "language": "python",
   "name": "python3"
  },
  "language_info": {
   "codemirror_mode": {
    "name": "ipython",
    "version": 3
   },
   "file_extension": ".py",
   "mimetype": "text/x-python",
   "name": "python",
   "nbconvert_exporter": "python",
   "pygments_lexer": "ipython3",
   "version": "3.12.7"
  }
 },
 "nbformat": 4,
 "nbformat_minor": 5
}
